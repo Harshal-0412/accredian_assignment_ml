{
 "cells": [
  {
   "cell_type": "markdown",
   "id": "e0fd623e",
   "metadata": {
    "id": "e0fd623e"
   },
   "source": [
    "### Importing all necessary Libraries "
   ]
  },
  {
   "cell_type": "code",
   "execution_count": 7,
   "id": "fc0ab064",
   "metadata": {
    "id": "fc0ab064"
   },
   "outputs": [],
   "source": [
    "import pandas as pd\n",
    "import numpy as np\n",
    "import matplotlib.pyplot as plt\n",
    "import seaborn as sns\n",
    "from sklearn.metrics import classification_report, confusion_matrix\n",
    "from sklearn.neighbors import KNeighborsClassifier\n",
    "from sklearn.tree import DecisionTreeClassifier\n",
    "from sklearn.linear_model import LogisticRegression\n",
    "from sklearn.model_selection import train_test_split\n",
    "from sklearn.preprocessing import StandardScaler\n",
    "from sklearn.naive_bayes import GaussianNB"
   ]
  },
  {
   "cell_type": "markdown",
   "id": "04bbfbfd",
   "metadata": {
    "id": "04bbfbfd"
   },
   "source": [
    "### loading the dataset"
   ]
  },
  {
   "cell_type": "code",
   "execution_count": 8,
   "id": "372c5033",
   "metadata": {
    "id": "372c5033"
   },
   "outputs": [],
   "source": [
    "data_1 = pd.read_csv(\"Fraud.csv\")"
   ]
  },
  {
   "cell_type": "markdown",
   "id": "8f350e1f",
   "metadata": {
    "id": "8f350e1f"
   },
   "source": [
    "###### Showing the first seven rows of dataset"
   ]
  },
  {
   "cell_type": "code",
   "execution_count": 9,
   "id": "98fb1684",
   "metadata": {
    "colab": {
     "base_uri": "https://localhost:8080/",
     "height": 289
    },
    "id": "98fb1684",
    "outputId": "d7aa7de2-8c49-481b-bc10-677be7f7fd9b"
   },
   "outputs": [
    {
     "data": {
      "text/html": [
       "<div>\n",
       "<style scoped>\n",
       "    .dataframe tbody tr th:only-of-type {\n",
       "        vertical-align: middle;\n",
       "    }\n",
       "\n",
       "    .dataframe tbody tr th {\n",
       "        vertical-align: top;\n",
       "    }\n",
       "\n",
       "    .dataframe thead th {\n",
       "        text-align: right;\n",
       "    }\n",
       "</style>\n",
       "<table border=\"1\" class=\"dataframe\">\n",
       "  <thead>\n",
       "    <tr style=\"text-align: right;\">\n",
       "      <th></th>\n",
       "      <th>step</th>\n",
       "      <th>type</th>\n",
       "      <th>amount</th>\n",
       "      <th>nameOrig</th>\n",
       "      <th>oldbalanceOrg</th>\n",
       "      <th>newbalanceOrig</th>\n",
       "      <th>nameDest</th>\n",
       "      <th>oldbalanceDest</th>\n",
       "      <th>newbalanceDest</th>\n",
       "      <th>isFraud</th>\n",
       "      <th>isFlaggedFraud</th>\n",
       "    </tr>\n",
       "  </thead>\n",
       "  <tbody>\n",
       "    <tr>\n",
       "      <th>0</th>\n",
       "      <td>1</td>\n",
       "      <td>PAYMENT</td>\n",
       "      <td>9839.64</td>\n",
       "      <td>C1231006815</td>\n",
       "      <td>170136.0</td>\n",
       "      <td>160296.36</td>\n",
       "      <td>M1979787155</td>\n",
       "      <td>0.0</td>\n",
       "      <td>0.0</td>\n",
       "      <td>0</td>\n",
       "      <td>0</td>\n",
       "    </tr>\n",
       "    <tr>\n",
       "      <th>1</th>\n",
       "      <td>1</td>\n",
       "      <td>PAYMENT</td>\n",
       "      <td>1864.28</td>\n",
       "      <td>C1666544295</td>\n",
       "      <td>21249.0</td>\n",
       "      <td>19384.72</td>\n",
       "      <td>M2044282225</td>\n",
       "      <td>0.0</td>\n",
       "      <td>0.0</td>\n",
       "      <td>0</td>\n",
       "      <td>0</td>\n",
       "    </tr>\n",
       "    <tr>\n",
       "      <th>2</th>\n",
       "      <td>1</td>\n",
       "      <td>TRANSFER</td>\n",
       "      <td>181.00</td>\n",
       "      <td>C1305486145</td>\n",
       "      <td>181.0</td>\n",
       "      <td>0.00</td>\n",
       "      <td>C553264065</td>\n",
       "      <td>0.0</td>\n",
       "      <td>0.0</td>\n",
       "      <td>1</td>\n",
       "      <td>0</td>\n",
       "    </tr>\n",
       "    <tr>\n",
       "      <th>3</th>\n",
       "      <td>1</td>\n",
       "      <td>CASH_OUT</td>\n",
       "      <td>181.00</td>\n",
       "      <td>C840083671</td>\n",
       "      <td>181.0</td>\n",
       "      <td>0.00</td>\n",
       "      <td>C38997010</td>\n",
       "      <td>21182.0</td>\n",
       "      <td>0.0</td>\n",
       "      <td>1</td>\n",
       "      <td>0</td>\n",
       "    </tr>\n",
       "    <tr>\n",
       "      <th>4</th>\n",
       "      <td>1</td>\n",
       "      <td>PAYMENT</td>\n",
       "      <td>11668.14</td>\n",
       "      <td>C2048537720</td>\n",
       "      <td>41554.0</td>\n",
       "      <td>29885.86</td>\n",
       "      <td>M1230701703</td>\n",
       "      <td>0.0</td>\n",
       "      <td>0.0</td>\n",
       "      <td>0</td>\n",
       "      <td>0</td>\n",
       "    </tr>\n",
       "    <tr>\n",
       "      <th>5</th>\n",
       "      <td>1</td>\n",
       "      <td>PAYMENT</td>\n",
       "      <td>7817.71</td>\n",
       "      <td>C90045638</td>\n",
       "      <td>53860.0</td>\n",
       "      <td>46042.29</td>\n",
       "      <td>M573487274</td>\n",
       "      <td>0.0</td>\n",
       "      <td>0.0</td>\n",
       "      <td>0</td>\n",
       "      <td>0</td>\n",
       "    </tr>\n",
       "    <tr>\n",
       "      <th>6</th>\n",
       "      <td>1</td>\n",
       "      <td>PAYMENT</td>\n",
       "      <td>7107.77</td>\n",
       "      <td>C154988899</td>\n",
       "      <td>183195.0</td>\n",
       "      <td>176087.23</td>\n",
       "      <td>M408069119</td>\n",
       "      <td>0.0</td>\n",
       "      <td>0.0</td>\n",
       "      <td>0</td>\n",
       "      <td>0</td>\n",
       "    </tr>\n",
       "  </tbody>\n",
       "</table>\n",
       "</div>"
      ],
      "text/plain": [
       "   step      type    amount     nameOrig  oldbalanceOrg  newbalanceOrig  \\\n",
       "0     1   PAYMENT   9839.64  C1231006815       170136.0       160296.36   \n",
       "1     1   PAYMENT   1864.28  C1666544295        21249.0        19384.72   \n",
       "2     1  TRANSFER    181.00  C1305486145          181.0            0.00   \n",
       "3     1  CASH_OUT    181.00   C840083671          181.0            0.00   \n",
       "4     1   PAYMENT  11668.14  C2048537720        41554.0        29885.86   \n",
       "5     1   PAYMENT   7817.71    C90045638        53860.0        46042.29   \n",
       "6     1   PAYMENT   7107.77   C154988899       183195.0       176087.23   \n",
       "\n",
       "      nameDest  oldbalanceDest  newbalanceDest  isFraud  isFlaggedFraud  \n",
       "0  M1979787155             0.0             0.0        0               0  \n",
       "1  M2044282225             0.0             0.0        0               0  \n",
       "2   C553264065             0.0             0.0        1               0  \n",
       "3    C38997010         21182.0             0.0        1               0  \n",
       "4  M1230701703             0.0             0.0        0               0  \n",
       "5   M573487274             0.0             0.0        0               0  \n",
       "6   M408069119             0.0             0.0        0               0  "
      ]
     },
     "execution_count": 9,
     "metadata": {},
     "output_type": "execute_result"
    }
   ],
   "source": [
    "data_1.head(7)"
   ]
  },
  {
   "cell_type": "markdown",
   "id": "1bef41eb",
   "metadata": {},
   "source": [
    "## Data cleaning and preprocessing"
   ]
  },
  {
   "cell_type": "markdown",
   "id": "3f75e178",
   "metadata": {},
   "source": [
    "### finding the null values "
   ]
  },
  {
   "cell_type": "code",
   "execution_count": 10,
   "id": "VG61_0BwRNud",
   "metadata": {
    "colab": {
     "base_uri": "https://localhost:8080/"
    },
    "id": "VG61_0BwRNud",
    "outputId": "d9d867f8-dcb1-4bbd-f2e6-ba1552c8d90c"
   },
   "outputs": [
    {
     "data": {
      "text/plain": [
       "step              0\n",
       "type              0\n",
       "amount            0\n",
       "nameOrig          0\n",
       "oldbalanceOrg     0\n",
       "newbalanceOrig    0\n",
       "nameDest          0\n",
       "oldbalanceDest    0\n",
       "newbalanceDest    0\n",
       "isFraud           0\n",
       "isFlaggedFraud    0\n",
       "dtype: int64"
      ]
     },
     "execution_count": 10,
     "metadata": {},
     "output_type": "execute_result"
    }
   ],
   "source": [
    "data_1.isnull().sum()"
   ]
  },
  {
   "cell_type": "markdown",
   "id": "973da454",
   "metadata": {},
   "source": [
    "#### if there is null values then remove it using the dropna function"
   ]
  },
  {
   "cell_type": "code",
   "execution_count": 11,
   "id": "Zi9gvha7RTW3",
   "metadata": {
    "id": "Zi9gvha7RTW3"
   },
   "outputs": [],
   "source": [
    "data_1 = data_1.dropna()"
   ]
  },
  {
   "cell_type": "markdown",
   "id": "c8d12f84",
   "metadata": {},
   "source": [
    "#### crosscheck if all NaN values are removed or not "
   ]
  },
  {
   "cell_type": "code",
   "execution_count": 12,
   "id": "30Jl72wIRgR9",
   "metadata": {
    "colab": {
     "base_uri": "https://localhost:8080/"
    },
    "id": "30Jl72wIRgR9",
    "outputId": "aa8a9193-5842-4c46-b9ed-6f263cd6ae56"
   },
   "outputs": [
    {
     "data": {
      "text/plain": [
       "step              0\n",
       "type              0\n",
       "amount            0\n",
       "nameOrig          0\n",
       "oldbalanceOrg     0\n",
       "newbalanceOrig    0\n",
       "nameDest          0\n",
       "oldbalanceDest    0\n",
       "newbalanceDest    0\n",
       "isFraud           0\n",
       "isFlaggedFraud    0\n",
       "dtype: int64"
      ]
     },
     "execution_count": 12,
     "metadata": {},
     "output_type": "execute_result"
    }
   ],
   "source": [
    "data_1.isnull().sum()"
   ]
  },
  {
   "cell_type": "markdown",
   "id": "8c3ab0f6",
   "metadata": {},
   "source": [
    "### check the redundent or duplicate rows"
   ]
  },
  {
   "cell_type": "code",
   "execution_count": 13,
   "id": "8MhbHXNZRk6r",
   "metadata": {
    "colab": {
     "base_uri": "https://localhost:8080/",
     "height": 73
    },
    "id": "8MhbHXNZRk6r",
    "outputId": "4087e8d2-88c5-49b2-f93a-2163fa24b02c"
   },
   "outputs": [
    {
     "data": {
      "text/html": [
       "<div>\n",
       "<style scoped>\n",
       "    .dataframe tbody tr th:only-of-type {\n",
       "        vertical-align: middle;\n",
       "    }\n",
       "\n",
       "    .dataframe tbody tr th {\n",
       "        vertical-align: top;\n",
       "    }\n",
       "\n",
       "    .dataframe thead th {\n",
       "        text-align: right;\n",
       "    }\n",
       "</style>\n",
       "<table border=\"1\" class=\"dataframe\">\n",
       "  <thead>\n",
       "    <tr style=\"text-align: right;\">\n",
       "      <th></th>\n",
       "      <th>step</th>\n",
       "      <th>type</th>\n",
       "      <th>amount</th>\n",
       "      <th>nameOrig</th>\n",
       "      <th>oldbalanceOrg</th>\n",
       "      <th>newbalanceOrig</th>\n",
       "      <th>nameDest</th>\n",
       "      <th>oldbalanceDest</th>\n",
       "      <th>newbalanceDest</th>\n",
       "      <th>isFraud</th>\n",
       "      <th>isFlaggedFraud</th>\n",
       "    </tr>\n",
       "  </thead>\n",
       "  <tbody>\n",
       "  </tbody>\n",
       "</table>\n",
       "</div>"
      ],
      "text/plain": [
       "Empty DataFrame\n",
       "Columns: [step, type, amount, nameOrig, oldbalanceOrg, newbalanceOrig, nameDest, oldbalanceDest, newbalanceDest, isFraud, isFlaggedFraud]\n",
       "Index: []"
      ]
     },
     "execution_count": 13,
     "metadata": {},
     "output_type": "execute_result"
    }
   ],
   "source": [
    "data_1[data_1.duplicated()]"
   ]
  },
  {
   "cell_type": "markdown",
   "id": "080becf4",
   "metadata": {},
   "source": [
    "## Outliers "
   ]
  },
  {
   "cell_type": "code",
   "execution_count": null,
   "id": "d735a076",
   "metadata": {},
   "outputs": [],
   "source": [
    "plotting = data_1[['amount', 'oldbalanceOrg', 'newbalanceOrig', 'oldbalanceDest', 'newbalanceDest', 'isFraud']]\n",
    "plotting.plot(\n",
    "    kind='box',\n",
    "    subplots=True,\n",
    "    sharey=False,\n",
    "    figsize=(15, 6),\n",
    "    grid=0.5\n",
    ")\n",
    "\n",
    "# increase spacing between subplots\n",
    "plt.subplots_adjust(wspace=0.5)\n",
    "plt.show()\n",
    "\n",
    "# we will person some of the operation to treat outliers\n",
    "# some of them are \n",
    "# winsoriztion, trimming, capping"
   ]
  },
  {
   "cell_type": "markdown",
   "id": "65415976",
   "metadata": {},
   "source": [
    "#### assign the target value to target variable "
   ]
  },
  {
   "cell_type": "code",
   "execution_count": 14,
   "id": "a66c55ec",
   "metadata": {
    "id": "a66c55ec"
   },
   "outputs": [],
   "source": [
    "target = data_1['isFraud']"
   ]
  },
  {
   "cell_type": "code",
   "execution_count": 15,
   "id": "4e15355a",
   "metadata": {
    "colab": {
     "base_uri": "https://localhost:8080/"
    },
    "id": "4e15355a",
    "outputId": "afd9725e-7223-4d7f-ca2d-d65fc97ca0e3"
   },
   "outputs": [
    {
     "data": {
      "text/plain": [
       "0          0\n",
       "1          0\n",
       "2          1\n",
       "3          1\n",
       "4          0\n",
       "          ..\n",
       "6362615    1\n",
       "6362616    1\n",
       "6362617    1\n",
       "6362618    1\n",
       "6362619    1\n",
       "Name: isFraud, Length: 6362620, dtype: int64"
      ]
     },
     "execution_count": 15,
     "metadata": {},
     "output_type": "execute_result"
    }
   ],
   "source": [
    "target"
   ]
  },
  {
   "cell_type": "markdown",
   "id": "952a57ad",
   "metadata": {},
   "source": [
    "#### Drop the specific columns "
   ]
  },
  {
   "cell_type": "code",
   "execution_count": 16,
   "id": "09c5aee8",
   "metadata": {
    "id": "09c5aee8"
   },
   "outputs": [],
   "source": [
    "data_2 = data_1.drop(columns = ['step', 'nameOrig', 'isFlaggedFraud', 'isFraud'], axis = 1)"
   ]
  },
  {
   "cell_type": "code",
   "execution_count": 17,
   "id": "68f7a1cb",
   "metadata": {
    "colab": {
     "base_uri": "https://localhost:8080/",
     "height": 443
    },
    "id": "68f7a1cb",
    "outputId": "85a663c9-dc50-48a7-976f-0a568416c75a"
   },
   "outputs": [
    {
     "data": {
      "text/html": [
       "<div>\n",
       "<style scoped>\n",
       "    .dataframe tbody tr th:only-of-type {\n",
       "        vertical-align: middle;\n",
       "    }\n",
       "\n",
       "    .dataframe tbody tr th {\n",
       "        vertical-align: top;\n",
       "    }\n",
       "\n",
       "    .dataframe thead th {\n",
       "        text-align: right;\n",
       "    }\n",
       "</style>\n",
       "<table border=\"1\" class=\"dataframe\">\n",
       "  <thead>\n",
       "    <tr style=\"text-align: right;\">\n",
       "      <th></th>\n",
       "      <th>type</th>\n",
       "      <th>amount</th>\n",
       "      <th>oldbalanceOrg</th>\n",
       "      <th>newbalanceOrig</th>\n",
       "      <th>nameDest</th>\n",
       "      <th>oldbalanceDest</th>\n",
       "      <th>newbalanceDest</th>\n",
       "    </tr>\n",
       "  </thead>\n",
       "  <tbody>\n",
       "    <tr>\n",
       "      <th>0</th>\n",
       "      <td>PAYMENT</td>\n",
       "      <td>9839.64</td>\n",
       "      <td>170136.00</td>\n",
       "      <td>160296.36</td>\n",
       "      <td>M1979787155</td>\n",
       "      <td>0.00</td>\n",
       "      <td>0.00</td>\n",
       "    </tr>\n",
       "    <tr>\n",
       "      <th>1</th>\n",
       "      <td>PAYMENT</td>\n",
       "      <td>1864.28</td>\n",
       "      <td>21249.00</td>\n",
       "      <td>19384.72</td>\n",
       "      <td>M2044282225</td>\n",
       "      <td>0.00</td>\n",
       "      <td>0.00</td>\n",
       "    </tr>\n",
       "    <tr>\n",
       "      <th>2</th>\n",
       "      <td>TRANSFER</td>\n",
       "      <td>181.00</td>\n",
       "      <td>181.00</td>\n",
       "      <td>0.00</td>\n",
       "      <td>C553264065</td>\n",
       "      <td>0.00</td>\n",
       "      <td>0.00</td>\n",
       "    </tr>\n",
       "    <tr>\n",
       "      <th>3</th>\n",
       "      <td>CASH_OUT</td>\n",
       "      <td>181.00</td>\n",
       "      <td>181.00</td>\n",
       "      <td>0.00</td>\n",
       "      <td>C38997010</td>\n",
       "      <td>21182.00</td>\n",
       "      <td>0.00</td>\n",
       "    </tr>\n",
       "    <tr>\n",
       "      <th>4</th>\n",
       "      <td>PAYMENT</td>\n",
       "      <td>11668.14</td>\n",
       "      <td>41554.00</td>\n",
       "      <td>29885.86</td>\n",
       "      <td>M1230701703</td>\n",
       "      <td>0.00</td>\n",
       "      <td>0.00</td>\n",
       "    </tr>\n",
       "    <tr>\n",
       "      <th>...</th>\n",
       "      <td>...</td>\n",
       "      <td>...</td>\n",
       "      <td>...</td>\n",
       "      <td>...</td>\n",
       "      <td>...</td>\n",
       "      <td>...</td>\n",
       "      <td>...</td>\n",
       "    </tr>\n",
       "    <tr>\n",
       "      <th>6362615</th>\n",
       "      <td>CASH_OUT</td>\n",
       "      <td>339682.13</td>\n",
       "      <td>339682.13</td>\n",
       "      <td>0.00</td>\n",
       "      <td>C776919290</td>\n",
       "      <td>0.00</td>\n",
       "      <td>339682.13</td>\n",
       "    </tr>\n",
       "    <tr>\n",
       "      <th>6362616</th>\n",
       "      <td>TRANSFER</td>\n",
       "      <td>6311409.28</td>\n",
       "      <td>6311409.28</td>\n",
       "      <td>0.00</td>\n",
       "      <td>C1881841831</td>\n",
       "      <td>0.00</td>\n",
       "      <td>0.00</td>\n",
       "    </tr>\n",
       "    <tr>\n",
       "      <th>6362617</th>\n",
       "      <td>CASH_OUT</td>\n",
       "      <td>6311409.28</td>\n",
       "      <td>6311409.28</td>\n",
       "      <td>0.00</td>\n",
       "      <td>C1365125890</td>\n",
       "      <td>68488.84</td>\n",
       "      <td>6379898.11</td>\n",
       "    </tr>\n",
       "    <tr>\n",
       "      <th>6362618</th>\n",
       "      <td>TRANSFER</td>\n",
       "      <td>850002.52</td>\n",
       "      <td>850002.52</td>\n",
       "      <td>0.00</td>\n",
       "      <td>C2080388513</td>\n",
       "      <td>0.00</td>\n",
       "      <td>0.00</td>\n",
       "    </tr>\n",
       "    <tr>\n",
       "      <th>6362619</th>\n",
       "      <td>CASH_OUT</td>\n",
       "      <td>850002.52</td>\n",
       "      <td>850002.52</td>\n",
       "      <td>0.00</td>\n",
       "      <td>C873221189</td>\n",
       "      <td>6510099.11</td>\n",
       "      <td>7360101.63</td>\n",
       "    </tr>\n",
       "  </tbody>\n",
       "</table>\n",
       "<p>6362620 rows × 7 columns</p>\n",
       "</div>"
      ],
      "text/plain": [
       "             type      amount  oldbalanceOrg  newbalanceOrig     nameDest  \\\n",
       "0         PAYMENT     9839.64      170136.00       160296.36  M1979787155   \n",
       "1         PAYMENT     1864.28       21249.00        19384.72  M2044282225   \n",
       "2        TRANSFER      181.00         181.00            0.00   C553264065   \n",
       "3        CASH_OUT      181.00         181.00            0.00    C38997010   \n",
       "4         PAYMENT    11668.14       41554.00        29885.86  M1230701703   \n",
       "...           ...         ...            ...             ...          ...   \n",
       "6362615  CASH_OUT   339682.13      339682.13            0.00   C776919290   \n",
       "6362616  TRANSFER  6311409.28     6311409.28            0.00  C1881841831   \n",
       "6362617  CASH_OUT  6311409.28     6311409.28            0.00  C1365125890   \n",
       "6362618  TRANSFER   850002.52      850002.52            0.00  C2080388513   \n",
       "6362619  CASH_OUT   850002.52      850002.52            0.00   C873221189   \n",
       "\n",
       "         oldbalanceDest  newbalanceDest  \n",
       "0                  0.00            0.00  \n",
       "1                  0.00            0.00  \n",
       "2                  0.00            0.00  \n",
       "3              21182.00            0.00  \n",
       "4                  0.00            0.00  \n",
       "...                 ...             ...  \n",
       "6362615            0.00       339682.13  \n",
       "6362616            0.00            0.00  \n",
       "6362617        68488.84      6379898.11  \n",
       "6362618            0.00            0.00  \n",
       "6362619      6510099.11      7360101.63  \n",
       "\n",
       "[6362620 rows x 7 columns]"
      ]
     },
     "execution_count": 17,
     "metadata": {},
     "output_type": "execute_result"
    }
   ],
   "source": [
    "data_2"
   ]
  },
  {
   "cell_type": "markdown",
   "id": "94598629",
   "metadata": {},
   "source": [
    "#### convert the nameDest column values using re lirary and wildcard operator "
   ]
  },
  {
   "cell_type": "code",
   "execution_count": 18,
   "id": "f6c1f453",
   "metadata": {
    "id": "f6c1f453"
   },
   "outputs": [],
   "source": [
    "# Function to replace values using regular expressions\n",
    "import re\n",
    "def replace_values(val):\n",
    "    if re.match(r'^M\\d+$', val):\n",
    "        return 'M'\n",
    "    elif re.match(r'^C\\d+$', val):\n",
    "        return 'C'\n",
    "    else:\n",
    "        return val\n",
    "\n",
    "# Apply the function to the 'values' column\n",
    "data_2['nameDest'] = data_2['nameDest'].apply(replace_values)"
   ]
  },
  {
   "cell_type": "code",
   "execution_count": 19,
   "id": "60f2cfb3",
   "metadata": {
    "colab": {
     "base_uri": "https://localhost:8080/",
     "height": 443
    },
    "id": "60f2cfb3",
    "outputId": "196a382e-bd83-4795-8713-381fe33f172e"
   },
   "outputs": [
    {
     "data": {
      "text/html": [
       "<div>\n",
       "<style scoped>\n",
       "    .dataframe tbody tr th:only-of-type {\n",
       "        vertical-align: middle;\n",
       "    }\n",
       "\n",
       "    .dataframe tbody tr th {\n",
       "        vertical-align: top;\n",
       "    }\n",
       "\n",
       "    .dataframe thead th {\n",
       "        text-align: right;\n",
       "    }\n",
       "</style>\n",
       "<table border=\"1\" class=\"dataframe\">\n",
       "  <thead>\n",
       "    <tr style=\"text-align: right;\">\n",
       "      <th></th>\n",
       "      <th>type</th>\n",
       "      <th>amount</th>\n",
       "      <th>oldbalanceOrg</th>\n",
       "      <th>newbalanceOrig</th>\n",
       "      <th>nameDest</th>\n",
       "      <th>oldbalanceDest</th>\n",
       "      <th>newbalanceDest</th>\n",
       "    </tr>\n",
       "  </thead>\n",
       "  <tbody>\n",
       "    <tr>\n",
       "      <th>0</th>\n",
       "      <td>PAYMENT</td>\n",
       "      <td>9839.64</td>\n",
       "      <td>170136.00</td>\n",
       "      <td>160296.36</td>\n",
       "      <td>M</td>\n",
       "      <td>0.00</td>\n",
       "      <td>0.00</td>\n",
       "    </tr>\n",
       "    <tr>\n",
       "      <th>1</th>\n",
       "      <td>PAYMENT</td>\n",
       "      <td>1864.28</td>\n",
       "      <td>21249.00</td>\n",
       "      <td>19384.72</td>\n",
       "      <td>M</td>\n",
       "      <td>0.00</td>\n",
       "      <td>0.00</td>\n",
       "    </tr>\n",
       "    <tr>\n",
       "      <th>2</th>\n",
       "      <td>TRANSFER</td>\n",
       "      <td>181.00</td>\n",
       "      <td>181.00</td>\n",
       "      <td>0.00</td>\n",
       "      <td>C</td>\n",
       "      <td>0.00</td>\n",
       "      <td>0.00</td>\n",
       "    </tr>\n",
       "    <tr>\n",
       "      <th>3</th>\n",
       "      <td>CASH_OUT</td>\n",
       "      <td>181.00</td>\n",
       "      <td>181.00</td>\n",
       "      <td>0.00</td>\n",
       "      <td>C</td>\n",
       "      <td>21182.00</td>\n",
       "      <td>0.00</td>\n",
       "    </tr>\n",
       "    <tr>\n",
       "      <th>4</th>\n",
       "      <td>PAYMENT</td>\n",
       "      <td>11668.14</td>\n",
       "      <td>41554.00</td>\n",
       "      <td>29885.86</td>\n",
       "      <td>M</td>\n",
       "      <td>0.00</td>\n",
       "      <td>0.00</td>\n",
       "    </tr>\n",
       "    <tr>\n",
       "      <th>...</th>\n",
       "      <td>...</td>\n",
       "      <td>...</td>\n",
       "      <td>...</td>\n",
       "      <td>...</td>\n",
       "      <td>...</td>\n",
       "      <td>...</td>\n",
       "      <td>...</td>\n",
       "    </tr>\n",
       "    <tr>\n",
       "      <th>6362615</th>\n",
       "      <td>CASH_OUT</td>\n",
       "      <td>339682.13</td>\n",
       "      <td>339682.13</td>\n",
       "      <td>0.00</td>\n",
       "      <td>C</td>\n",
       "      <td>0.00</td>\n",
       "      <td>339682.13</td>\n",
       "    </tr>\n",
       "    <tr>\n",
       "      <th>6362616</th>\n",
       "      <td>TRANSFER</td>\n",
       "      <td>6311409.28</td>\n",
       "      <td>6311409.28</td>\n",
       "      <td>0.00</td>\n",
       "      <td>C</td>\n",
       "      <td>0.00</td>\n",
       "      <td>0.00</td>\n",
       "    </tr>\n",
       "    <tr>\n",
       "      <th>6362617</th>\n",
       "      <td>CASH_OUT</td>\n",
       "      <td>6311409.28</td>\n",
       "      <td>6311409.28</td>\n",
       "      <td>0.00</td>\n",
       "      <td>C</td>\n",
       "      <td>68488.84</td>\n",
       "      <td>6379898.11</td>\n",
       "    </tr>\n",
       "    <tr>\n",
       "      <th>6362618</th>\n",
       "      <td>TRANSFER</td>\n",
       "      <td>850002.52</td>\n",
       "      <td>850002.52</td>\n",
       "      <td>0.00</td>\n",
       "      <td>C</td>\n",
       "      <td>0.00</td>\n",
       "      <td>0.00</td>\n",
       "    </tr>\n",
       "    <tr>\n",
       "      <th>6362619</th>\n",
       "      <td>CASH_OUT</td>\n",
       "      <td>850002.52</td>\n",
       "      <td>850002.52</td>\n",
       "      <td>0.00</td>\n",
       "      <td>C</td>\n",
       "      <td>6510099.11</td>\n",
       "      <td>7360101.63</td>\n",
       "    </tr>\n",
       "  </tbody>\n",
       "</table>\n",
       "<p>6362620 rows × 7 columns</p>\n",
       "</div>"
      ],
      "text/plain": [
       "             type      amount  oldbalanceOrg  newbalanceOrig nameDest  \\\n",
       "0         PAYMENT     9839.64      170136.00       160296.36        M   \n",
       "1         PAYMENT     1864.28       21249.00        19384.72        M   \n",
       "2        TRANSFER      181.00         181.00            0.00        C   \n",
       "3        CASH_OUT      181.00         181.00            0.00        C   \n",
       "4         PAYMENT    11668.14       41554.00        29885.86        M   \n",
       "...           ...         ...            ...             ...      ...   \n",
       "6362615  CASH_OUT   339682.13      339682.13            0.00        C   \n",
       "6362616  TRANSFER  6311409.28     6311409.28            0.00        C   \n",
       "6362617  CASH_OUT  6311409.28     6311409.28            0.00        C   \n",
       "6362618  TRANSFER   850002.52      850002.52            0.00        C   \n",
       "6362619  CASH_OUT   850002.52      850002.52            0.00        C   \n",
       "\n",
       "         oldbalanceDest  newbalanceDest  \n",
       "0                  0.00            0.00  \n",
       "1                  0.00            0.00  \n",
       "2                  0.00            0.00  \n",
       "3              21182.00            0.00  \n",
       "4                  0.00            0.00  \n",
       "...                 ...             ...  \n",
       "6362615            0.00       339682.13  \n",
       "6362616            0.00            0.00  \n",
       "6362617        68488.84      6379898.11  \n",
       "6362618            0.00            0.00  \n",
       "6362619      6510099.11      7360101.63  \n",
       "\n",
       "[6362620 rows x 7 columns]"
      ]
     },
     "execution_count": 19,
     "metadata": {},
     "output_type": "execute_result"
    }
   ],
   "source": [
    "data_2"
   ]
  },
  {
   "cell_type": "markdown",
   "id": "d18b2e00",
   "metadata": {},
   "source": [
    "#### use one hot encoder to create dummy columns \n",
    "#### convert the categorical data into the numerical data"
   ]
  },
  {
   "cell_type": "code",
   "execution_count": 20,
   "id": "511f7f5d",
   "metadata": {
    "id": "511f7f5d"
   },
   "outputs": [],
   "source": [
    "data_3 = pd.get_dummies(data_2, columns = ['type', 'nameDest'])"
   ]
  },
  {
   "cell_type": "code",
   "execution_count": 21,
   "id": "709624be",
   "metadata": {
    "colab": {
     "base_uri": "https://localhost:8080/",
     "height": 443
    },
    "id": "709624be",
    "outputId": "ce2555cf-e83c-4259-b581-9cb2e3d85011"
   },
   "outputs": [
    {
     "data": {
      "text/html": [
       "<div>\n",
       "<style scoped>\n",
       "    .dataframe tbody tr th:only-of-type {\n",
       "        vertical-align: middle;\n",
       "    }\n",
       "\n",
       "    .dataframe tbody tr th {\n",
       "        vertical-align: top;\n",
       "    }\n",
       "\n",
       "    .dataframe thead th {\n",
       "        text-align: right;\n",
       "    }\n",
       "</style>\n",
       "<table border=\"1\" class=\"dataframe\">\n",
       "  <thead>\n",
       "    <tr style=\"text-align: right;\">\n",
       "      <th></th>\n",
       "      <th>amount</th>\n",
       "      <th>oldbalanceOrg</th>\n",
       "      <th>newbalanceOrig</th>\n",
       "      <th>oldbalanceDest</th>\n",
       "      <th>newbalanceDest</th>\n",
       "      <th>type_CASH_IN</th>\n",
       "      <th>type_CASH_OUT</th>\n",
       "      <th>type_DEBIT</th>\n",
       "      <th>type_PAYMENT</th>\n",
       "      <th>type_TRANSFER</th>\n",
       "      <th>nameDest_C</th>\n",
       "      <th>nameDest_M</th>\n",
       "    </tr>\n",
       "  </thead>\n",
       "  <tbody>\n",
       "    <tr>\n",
       "      <th>0</th>\n",
       "      <td>9839.64</td>\n",
       "      <td>170136.00</td>\n",
       "      <td>160296.36</td>\n",
       "      <td>0.00</td>\n",
       "      <td>0.00</td>\n",
       "      <td>0</td>\n",
       "      <td>0</td>\n",
       "      <td>0</td>\n",
       "      <td>1</td>\n",
       "      <td>0</td>\n",
       "      <td>0</td>\n",
       "      <td>1</td>\n",
       "    </tr>\n",
       "    <tr>\n",
       "      <th>1</th>\n",
       "      <td>1864.28</td>\n",
       "      <td>21249.00</td>\n",
       "      <td>19384.72</td>\n",
       "      <td>0.00</td>\n",
       "      <td>0.00</td>\n",
       "      <td>0</td>\n",
       "      <td>0</td>\n",
       "      <td>0</td>\n",
       "      <td>1</td>\n",
       "      <td>0</td>\n",
       "      <td>0</td>\n",
       "      <td>1</td>\n",
       "    </tr>\n",
       "    <tr>\n",
       "      <th>2</th>\n",
       "      <td>181.00</td>\n",
       "      <td>181.00</td>\n",
       "      <td>0.00</td>\n",
       "      <td>0.00</td>\n",
       "      <td>0.00</td>\n",
       "      <td>0</td>\n",
       "      <td>0</td>\n",
       "      <td>0</td>\n",
       "      <td>0</td>\n",
       "      <td>1</td>\n",
       "      <td>1</td>\n",
       "      <td>0</td>\n",
       "    </tr>\n",
       "    <tr>\n",
       "      <th>3</th>\n",
       "      <td>181.00</td>\n",
       "      <td>181.00</td>\n",
       "      <td>0.00</td>\n",
       "      <td>21182.00</td>\n",
       "      <td>0.00</td>\n",
       "      <td>0</td>\n",
       "      <td>1</td>\n",
       "      <td>0</td>\n",
       "      <td>0</td>\n",
       "      <td>0</td>\n",
       "      <td>1</td>\n",
       "      <td>0</td>\n",
       "    </tr>\n",
       "    <tr>\n",
       "      <th>4</th>\n",
       "      <td>11668.14</td>\n",
       "      <td>41554.00</td>\n",
       "      <td>29885.86</td>\n",
       "      <td>0.00</td>\n",
       "      <td>0.00</td>\n",
       "      <td>0</td>\n",
       "      <td>0</td>\n",
       "      <td>0</td>\n",
       "      <td>1</td>\n",
       "      <td>0</td>\n",
       "      <td>0</td>\n",
       "      <td>1</td>\n",
       "    </tr>\n",
       "    <tr>\n",
       "      <th>...</th>\n",
       "      <td>...</td>\n",
       "      <td>...</td>\n",
       "      <td>...</td>\n",
       "      <td>...</td>\n",
       "      <td>...</td>\n",
       "      <td>...</td>\n",
       "      <td>...</td>\n",
       "      <td>...</td>\n",
       "      <td>...</td>\n",
       "      <td>...</td>\n",
       "      <td>...</td>\n",
       "      <td>...</td>\n",
       "    </tr>\n",
       "    <tr>\n",
       "      <th>6362615</th>\n",
       "      <td>339682.13</td>\n",
       "      <td>339682.13</td>\n",
       "      <td>0.00</td>\n",
       "      <td>0.00</td>\n",
       "      <td>339682.13</td>\n",
       "      <td>0</td>\n",
       "      <td>1</td>\n",
       "      <td>0</td>\n",
       "      <td>0</td>\n",
       "      <td>0</td>\n",
       "      <td>1</td>\n",
       "      <td>0</td>\n",
       "    </tr>\n",
       "    <tr>\n",
       "      <th>6362616</th>\n",
       "      <td>6311409.28</td>\n",
       "      <td>6311409.28</td>\n",
       "      <td>0.00</td>\n",
       "      <td>0.00</td>\n",
       "      <td>0.00</td>\n",
       "      <td>0</td>\n",
       "      <td>0</td>\n",
       "      <td>0</td>\n",
       "      <td>0</td>\n",
       "      <td>1</td>\n",
       "      <td>1</td>\n",
       "      <td>0</td>\n",
       "    </tr>\n",
       "    <tr>\n",
       "      <th>6362617</th>\n",
       "      <td>6311409.28</td>\n",
       "      <td>6311409.28</td>\n",
       "      <td>0.00</td>\n",
       "      <td>68488.84</td>\n",
       "      <td>6379898.11</td>\n",
       "      <td>0</td>\n",
       "      <td>1</td>\n",
       "      <td>0</td>\n",
       "      <td>0</td>\n",
       "      <td>0</td>\n",
       "      <td>1</td>\n",
       "      <td>0</td>\n",
       "    </tr>\n",
       "    <tr>\n",
       "      <th>6362618</th>\n",
       "      <td>850002.52</td>\n",
       "      <td>850002.52</td>\n",
       "      <td>0.00</td>\n",
       "      <td>0.00</td>\n",
       "      <td>0.00</td>\n",
       "      <td>0</td>\n",
       "      <td>0</td>\n",
       "      <td>0</td>\n",
       "      <td>0</td>\n",
       "      <td>1</td>\n",
       "      <td>1</td>\n",
       "      <td>0</td>\n",
       "    </tr>\n",
       "    <tr>\n",
       "      <th>6362619</th>\n",
       "      <td>850002.52</td>\n",
       "      <td>850002.52</td>\n",
       "      <td>0.00</td>\n",
       "      <td>6510099.11</td>\n",
       "      <td>7360101.63</td>\n",
       "      <td>0</td>\n",
       "      <td>1</td>\n",
       "      <td>0</td>\n",
       "      <td>0</td>\n",
       "      <td>0</td>\n",
       "      <td>1</td>\n",
       "      <td>0</td>\n",
       "    </tr>\n",
       "  </tbody>\n",
       "</table>\n",
       "<p>6362620 rows × 12 columns</p>\n",
       "</div>"
      ],
      "text/plain": [
       "             amount  oldbalanceOrg  newbalanceOrig  oldbalanceDest  \\\n",
       "0           9839.64      170136.00       160296.36            0.00   \n",
       "1           1864.28       21249.00        19384.72            0.00   \n",
       "2            181.00         181.00            0.00            0.00   \n",
       "3            181.00         181.00            0.00        21182.00   \n",
       "4          11668.14       41554.00        29885.86            0.00   \n",
       "...             ...            ...             ...             ...   \n",
       "6362615   339682.13      339682.13            0.00            0.00   \n",
       "6362616  6311409.28     6311409.28            0.00            0.00   \n",
       "6362617  6311409.28     6311409.28            0.00        68488.84   \n",
       "6362618   850002.52      850002.52            0.00            0.00   \n",
       "6362619   850002.52      850002.52            0.00      6510099.11   \n",
       "\n",
       "         newbalanceDest  type_CASH_IN  type_CASH_OUT  type_DEBIT  \\\n",
       "0                  0.00             0              0           0   \n",
       "1                  0.00             0              0           0   \n",
       "2                  0.00             0              0           0   \n",
       "3                  0.00             0              1           0   \n",
       "4                  0.00             0              0           0   \n",
       "...                 ...           ...            ...         ...   \n",
       "6362615       339682.13             0              1           0   \n",
       "6362616            0.00             0              0           0   \n",
       "6362617      6379898.11             0              1           0   \n",
       "6362618            0.00             0              0           0   \n",
       "6362619      7360101.63             0              1           0   \n",
       "\n",
       "         type_PAYMENT  type_TRANSFER  nameDest_C  nameDest_M  \n",
       "0                   1              0           0           1  \n",
       "1                   1              0           0           1  \n",
       "2                   0              1           1           0  \n",
       "3                   0              0           1           0  \n",
       "4                   1              0           0           1  \n",
       "...               ...            ...         ...         ...  \n",
       "6362615             0              0           1           0  \n",
       "6362616             0              1           1           0  \n",
       "6362617             0              0           1           0  \n",
       "6362618             0              1           1           0  \n",
       "6362619             0              0           1           0  \n",
       "\n",
       "[6362620 rows x 12 columns]"
      ]
     },
     "execution_count": 21,
     "metadata": {},
     "output_type": "execute_result"
    }
   ],
   "source": [
    "data_3"
   ]
  },
  {
   "cell_type": "markdown",
   "id": "7a50d23a",
   "metadata": {},
   "source": [
    "### Calculate the correlation matrix "
   ]
  },
  {
   "cell_type": "code",
   "execution_count": 31,
   "id": "73f5cead",
   "metadata": {},
   "outputs": [],
   "source": [
    "correlation_matrix = data_3.corr()"
   ]
  },
  {
   "cell_type": "markdown",
   "id": "e15ac45a",
   "metadata": {},
   "source": [
    "### Plot the heatmap"
   ]
  },
  {
   "cell_type": "code",
   "execution_count": 32,
   "id": "5b5a8fd1",
   "metadata": {},
   "outputs": [
    {
     "data": {
      "image/png": "[encoded data removed]",
      "text/plain": [
       "<Figure size 720x576 with 2 Axes>"
      ]
     },
     "metadata": {
      "needs_background": "light"
     },
     "output_type": "display_data"
    }
   ],
   "source": [
    "plt.figure(figsize=(10, 8))\n",
    "sns.heatmap(correlation_matrix, annot=True, cmap='coolwarm', fmt=\".2f\")\n",
    "plt.title('Multicollinearity Heatmap')\n",
    "plt.show()"
   ]
  },
  {
   "cell_type": "markdown",
   "id": "ccccfd51",
   "metadata": {
    "id": "79360d34"
   },
   "source": [
    "## Split the model between training  and testing data "
   ]
  },
  {
   "cell_type": "code",
   "execution_count": 22,
   "id": "fc6c9e80",
   "metadata": {
    "id": "fc6c9e80"
   },
   "outputs": [],
   "source": [
    "x_train, x_test, y_train, y_test = train_test_split(data_3, target, test_size = 0.30, random_state = 0)"
   ]
  },
  {
   "cell_type": "markdown",
   "id": "e72a8baf",
   "metadata": {},
   "source": [
    "#### total number of rows and columns in training and testing dataset "
   ]
  },
  {
   "cell_type": "code",
   "execution_count": 23,
   "id": "a72f341b",
   "metadata": {
    "colab": {
     "base_uri": "https://localhost:8080/"
    },
    "id": "a72f341b",
    "outputId": "50218edf-be21-4ef9-9617-c3da318c942d"
   },
   "outputs": [
    {
     "data": {
      "text/plain": [
       "((4453834, 12), (1908786, 12), (6362620,))"
      ]
     },
     "execution_count": 23,
     "metadata": {},
     "output_type": "execute_result"
    }
   ],
   "source": [
    "x_train.shape, x_test.shape, target.shape"
   ]
  },
  {
   "cell_type": "code",
   "execution_count": 24,
   "id": "c9de6436",
   "metadata": {
    "colab": {
     "base_uri": "https://localhost:8080/"
    },
    "id": "c9de6436",
    "outputId": "54f5751e-aa85-44d4-d01b-05096577a246"
   },
   "outputs": [
    {
     "data": {
      "text/plain": [
       "((4453834,), (1908786,), (6362620,))"
      ]
     },
     "execution_count": 24,
     "metadata": {},
     "output_type": "execute_result"
    }
   ],
   "source": [
    "y_train.shape, y_test.shape, target.shape"
   ]
  },
  {
   "cell_type": "markdown",
   "id": "19a03505",
   "metadata": {},
   "source": [
    "#### Standardize the data using standard Scaler "
   ]
  },
  {
   "cell_type": "code",
   "execution_count": 25,
   "id": "3f85ed95",
   "metadata": {
    "id": "3f85ed95"
   },
   "outputs": [],
   "source": [
    "st_x = StandardScaler()\n",
    "x_train_ss = st_x.fit_transform(x_train)\n",
    "x_test_ss = st_x.transform(x_test)"
   ]
  },
  {
   "cell_type": "markdown",
   "id": "daBgYI5JvEUD",
   "metadata": {
    "id": "daBgYI5JvEUD"
   },
   "source": [
    "## load the ML model "
   ]
  },
  {
   "cell_type": "code",
   "execution_count": 26,
   "id": "4f74ca07",
   "metadata": {
    "id": "4f74ca07"
   },
   "outputs": [],
   "source": [
    "logclassifier = LogisticRegression(random_state = 0)\n",
    "decisiontreeclassifier = DecisionTreeClassifier(criterion = \"entropy\", random_state = 0)\n",
    "knnclassifier = KNeighborsClassifier(n_neighbors=5)\n",
    "naivebayes = GaussianNB()"
   ]
  },
  {
   "cell_type": "markdown",
   "id": "VLdZubwFVTrn",
   "metadata": {
    "id": "VLdZubwFVTrn"
   },
   "source": [
    "### Logistic Regression Classifier and vizualization"
   ]
  },
  {
   "cell_type": "code",
   "execution_count": 28,
   "id": "852c478c",
   "metadata": {
    "colab": {
     "base_uri": "https://localhost:8080/",
     "height": 74
    },
    "id": "852c478c",
    "outputId": "7bad85fb-4283-40dc-ef76-07f113d57503"
   },
   "outputs": [
    {
     "name": "stdout",
     "output_type": "stream",
     "text": [
      "0.9978881116808574 0.997848370639768\n",
      "Classification Report:\n",
      "              precision    recall  f1-score   support\n",
      "\n",
      "           0       1.00      1.00      1.00   1906367\n",
      "           1       0.35      0.80      0.48      2419\n",
      "\n",
      "    accuracy                           1.00   1908786\n",
      "   macro avg       0.67      0.90      0.74   1908786\n",
      "weighted avg       1.00      1.00      1.00   1908786\n",
      "\n"
     ]
    },
    {
     "data": {
      "image/png": "[encoded data removed]",
      "text/plain": [
       "<Figure size 576x432 with 2 Axes>"
      ]
     },
     "metadata": {
      "needs_background": "light"
     },
     "output_type": "display_data"
    }
   ],
   "source": [
    "logclassifier.fit(x_train, y_train)\n",
    "x_train_predict_log = logclassifier.predict(x_train)\n",
    "log_train_accuracy = accuracy_score(x_train_predict_log, y_train)\n",
    "x_test_predict_log = logclassifier.predict(x_test)\n",
    "log_test_accuracy = accuracy_score(x_test_predict_log, y_test)\n",
    "print(log_train_accuracy, log_test_accuracy)\n",
    "\n",
    "print(\"Classification Report:\")\n",
    "print(classification_report(y_test, x_test_predict_log))\n",
    "\n",
    "# Calculate confusion matrix\n",
    "cm = confusion_matrix(y_test, x_test_predict_log)\n",
    "\n",
    "# Plot confusion matrix using seaborn\n",
    "plt.figure(figsize=(8, 6))\n",
    "sns.heatmap(cm, annot=True, fmt='d')\n",
    "plt.xlabel('Predicted labels')\n",
    "plt.ylabel('True labels')\n",
    "plt.title('Confusion Matrix')\n",
    "plt.show()"
   ]
  },
  {
   "cell_type": "markdown",
   "id": "tS4RtTdGVOwf",
   "metadata": {
    "id": "tS4RtTdGVOwf"
   },
   "source": [
    "### Decision Tree Classifier and vizualization"
   ]
  },
  {
   "cell_type": "code",
   "execution_count": 29,
   "id": "4a5aNW_EQ-I1",
   "metadata": {
    "colab": {
     "base_uri": "https://localhost:8080/",
     "height": 74
    },
    "id": "4a5aNW_EQ-I1",
    "outputId": "cd4e5887-7ab5-4b99-e15c-a12729228efb"
   },
   "outputs": [
    {
     "name": "stdout",
     "output_type": "stream",
     "text": [
      "1.0 0.9997411967606635\n",
      "Classification Report:\n",
      "              precision    recall  f1-score   support\n",
      "\n",
      "           0       1.00      1.00      1.00   1906367\n",
      "           1       0.90      0.89      0.90      2419\n",
      "\n",
      "    accuracy                           1.00   1908786\n",
      "   macro avg       0.95      0.95      0.95   1908786\n",
      "weighted avg       1.00      1.00      1.00   1908786\n",
      "\n"
     ]
    },
    {
     "data": {
      "image/png": "[encoded data removed]",
      "text/plain": [
       "<Figure size 576x432 with 2 Axes>"
      ]
     },
     "metadata": {
      "needs_background": "light"
     },
     "output_type": "display_data"
    }
   ],
   "source": [
    "decisiontreeclassifier.fit(x_train, y_train)\n",
    "x_train_predict_decision = decisiontreeclassifier.predict(x_train)\n",
    "decision_train_accuracy = accuracy_score(x_train_predict_decision, y_train)\n",
    "x_test_predict_decision = decisiontreeclassifier.predict(x_test)\n",
    "decision_test_accuracy = accuracy_score(x_test_predict_decision, y_test)\n",
    "print(decision_train_accuracy, decision_test_accuracy)\n",
    "\n",
    "print(\"Classification Report:\")\n",
    "print(classification_report(y_test, x_test_predict_decision))\n",
    "\n",
    "# Calculate confusion matrix\n",
    "cm = confusion_matrix(y_test, x_test_predict_decision)\n",
    "\n",
    "# Plot confusion matrix using seaborn\n",
    "plt.figure(figsize=(8, 6))\n",
    "sns.heatmap(cm, annot=True, fmt='d')\n",
    "plt.xlabel('Predicted labels')\n",
    "plt.ylabel('True labels')\n",
    "plt.title('Confusion Matrix')\n",
    "plt.show()"
   ]
  },
  {
   "cell_type": "markdown",
   "id": "kIPD4aiuXGdJ",
   "metadata": {
    "id": "kIPD4aiuXGdJ"
   },
   "source": [
    "SVM classifier / it will take lot of time for running so be cautious before running the code"
   ]
  },
  {
   "cell_type": "code",
   "execution_count": 33,
   "id": "KHMreqZmWOdM",
   "metadata": {
    "id": "KHMreqZmWOdM"
   },
   "outputs": [],
   "source": [
    "# svmclassifier = SVC(kernel = \"linear\", random_state = 0)\n",
    "# svmclassifier.fit(x_train, y_train)\n",
    "# x_train_predict_svm = svmclassifier.predict(x_train)\n",
    "# accuracy_score(x_train_predict_svm, y_train)\n",
    "# x_test_predict_svm = svmclassifier.predict(x_test)\n",
    "# accuracy_score(x_test_predict_svm, y_test)\n",
    "# print(confusion_matrix(y_test, x_test_predict_svm))"
   ]
  },
  {
   "cell_type": "markdown",
   "id": "3sa53xbKYH8c",
   "metadata": {
    "id": "3sa53xbKYH8c"
   },
   "source": [
    "### KNN classifier and vizualization"
   ]
  },
  {
   "cell_type": "code",
   "execution_count": null,
   "id": "MlHMdwBtXzg2",
   "metadata": {
    "colab": {
     "base_uri": "https://localhost:8080/"
    },
    "id": "MlHMdwBtXzg2",
    "outputId": "1bc8fd47-ea7f-44fb-fa57-fda1af1c9a29"
   },
   "outputs": [],
   "source": [
    "knnclassifier.fit(x_train, y_train)\n",
    "x_train_predict_knn = knnclassifier.predict(x_train)\n",
    "knn_train_accuracy = accuracy_score(x_train_predict_knn, y_train)\n",
    "x_test_predict_knn = knnclassifier.predict(x_test)\n",
    "knn_test_accuracy = accuracy_score(x_test_predict_knn, y_test)\n",
    "print(knn_train_accuracy, knn_test_accuracy)\n",
    "\n",
    "\n",
    "print(\"Classification Report:\")\n",
    "print(classification_report(y_test, x_test_predict_knn))\n",
    "\n",
    "# Calculate confusion matrix\n",
    "cm = confusion_matrix(y_test, x_test_predict_knn)\n",
    "\n",
    "# Plot confusion matrix using seaborn\n",
    "plt.figure(figsize=(8, 6))\n",
    "sns.heatmap(cm, annot=True, fmt='d')\n",
    "plt.xlabel('Predicted labels')\n",
    "plt.ylabel('True labels')\n",
    "plt.title('Confusion Matrix')\n",
    "plt.show()"
   ]
  },
  {
   "cell_type": "markdown",
   "id": "BH21DIzAYLPB",
   "metadata": {
    "id": "BH21DIzAYLPB"
   },
   "source": [
    "### Naive Bayes and vizualization"
   ]
  },
  {
   "cell_type": "code",
   "execution_count": 30,
   "id": "MgIPmeVnYKt1",
   "metadata": {
    "colab": {
     "base_uri": "https://localhost:8080/"
    },
    "id": "MgIPmeVnYKt1",
    "outputId": "b5c2833c-cc38-4ba8-d664-1d7d41ec461b"
   },
   "outputs": [
    {
     "name": "stdout",
     "output_type": "stream",
     "text": [
      "0.9919238121582439 0.992089212724737\n",
      "Classification Report:\n",
      "              precision    recall  f1-score   support\n",
      "\n",
      "           0       1.00      0.99      1.00   1906367\n",
      "           1       0.03      0.17      0.05      2419\n",
      "\n",
      "    accuracy                           0.99   1908786\n",
      "   macro avg       0.51      0.58      0.52   1908786\n",
      "weighted avg       1.00      0.99      0.99   1908786\n",
      "\n"
     ]
    },
    {
     "data": {
      "image/png": "[encoded data removed]",
      "text/plain": [
       "<Figure size 576x432 with 2 Axes>"
      ]
     },
     "metadata": {
      "needs_background": "light"
     },
     "output_type": "display_data"
    }
   ],
   "source": [
    "naivebayes = GaussianNB()\n",
    "naivebayes.fit(x_train, y_train)\n",
    "x_train_predict_nb = naivebayes.predict(x_train)\n",
    "nb_train_accuracy = accuracy_score(x_train_predict_nb, y_train)\n",
    "x_test_predict_nb = naivebayes.predict(x_test)\n",
    "nb_test_accuracy = accuracy_score(x_test_predict_nb, y_test)\n",
    "print(nb_train_accuracy, nb_test_accuracy)\n",
    "\n",
    "print(\"Classification Report:\")\n",
    "print(classification_report(y_test, x_test_predict_nb))\n",
    "\n",
    "# Calculate confusion matrix\n",
    "cm = confusion_matrix(y_test, x_test_predict_nb)\n",
    "\n",
    "# Plot confusion matrix using seaborn\n",
    "plt.figure(figsize=(8, 6))\n",
    "sns.heatmap(cm, annot=True, fmt='d')\n",
    "plt.xlabel('Predicted labels')\n",
    "plt.ylabel('True labels')\n",
    "plt.title('Confusion Matrix')\n",
    "plt.show()"
   ]
  },
  {
   "cell_type": "markdown",
   "id": "2827fc88",
   "metadata": {},
   "source": [
    "# Candidate Expectations Answers  "
   ]
  },
  {
   "cell_type": "markdown",
   "id": "9f347987",
   "metadata": {},
   "source": [
    "### 1) Data cleaning including missing values, outliers and multi-collinearity"
   ]
  },
  {
   "cell_type": "markdown",
   "id": "6a528680",
   "metadata": {},
   "source": [
    "i) we first check is there any null values in any of the column using the isnull() function, then we remove the null values\n",
    "\n",
    "ii) we then check the duplicate rows in the dataset using duplicated() function so we come to know that there is no duplicate values\n",
    "\n",
    "iii) then we will check the outliers using the box plot \n",
    "\n",
    "iv) removed the columns which are not required for model training and some of them\n",
    "    •\tStep (will use later for visualiztion)\n",
    "    •\tnameOrig\n",
    "    •\tisFraud (will use as output)\n",
    "    •\tisFlaggedFraud\n",
    "    \n",
    "v) convert all the merchant account name with the “M” and convert the customer account name with the “C”. all these changes are dome only in nameDest column\n",
    "\n",
    "vi) used the one hot encoder which has helped us in coverting all the categorical data into the numerical values where we have created different columns for different categorical values\n",
    "for type column where we have 5 options so we have created 5 columns\n",
    "for nameDest column we have 2 options so we have created 2 columns\n"
   ]
  },
  {
   "cell_type": "markdown",
   "id": "f6b8a43b",
   "metadata": {},
   "source": [
    "### 2) Describe your fraud detection model in elaboration.  "
   ]
  },
  {
   "cell_type": "markdown",
   "id": "2856385c",
   "metadata": {},
   "source": [
    "i) after implementing the data cleaning process we will select the machine learning algorithms like\n",
    "\n",
    "    •\tsvm : it will create the hyperplane which will divide the sides (it is taking a lot of time in this dataset because of high dimensionality and large volume of data)\n",
    "    \n",
    "    •\tknn: it will find the nearest point values and according to it, it wil assign the value\n",
    "    \n",
    "    •\tlogistic regression: the sigmoid function is quite fast model in terms of training and gives    efficient model\n",
    "    \n",
    "    •\tdecision tree: it will create the tree like sturcture and tell the output in more accurate way\n",
    "    \n",
    "    •\tnaïve bayes: it is based on bayes theorem it assumes that all the columns are indepenedent of each other and it is fast in terms of processing and training\n",
    "\n",
    "    \n",
    "ii) in this we have separated the target column that is the “isFraud” column and have assign it different variable \n",
    "\n",
    "iii) we will implement the machine learning models on all the remaining columns"
   ]
  },
  {
   "cell_type": "markdown",
   "id": "3921ae41",
   "metadata": {},
   "source": [
    "### 3) How did you select variables to be included in the model? "
   ]
  },
  {
   "cell_type": "markdown",
   "id": "11b9b09b",
   "metadata": {},
   "source": [
    "i) columns we selected are the and the reasons are given below\n",
    "\n",
    "    •\tamount\t : (it is one of the main factor will tell us what is because transferred, cashed out or debited etc)\n",
    "    \n",
    "    •\toldbalanceOrg: (it will tell the original balance and we can check with the amount that whether amount which is request to be taken out is legit or not)\t\n",
    "    \n",
    "    •\tnewbalanceOrg: (it will tell the balance after the specific amount is taken out so it will help us in checking the consistency)\n",
    "    \n",
    "    •\toldbalanceDest\t: (it will tell the old balance of recipient which will help us in checking the consistency)\n",
    "\n",
    "    •\tnewbalanceDest: (it will tell the new balance after specific amount is added so this will also help us in evaluating the consistency among the transaction and it is one of the main variables)\n",
    "\n",
    "    •\ttype : (it will tell the mode of operation and reason we added is because it will help us identifying the mode of transaction where fraud usually occurs)\n",
    "    \n",
    "    •\tnameDest: (it will tell us the two types of account one of merchant which changed to M in data preprocessing stage and customer account to c, it will help us in telling in which accounts do fraud happens more)\n",
    "\n",
    "ii) columns we removed and the reasons are given below\n",
    "    \n",
    "    •\tstep: (it will not help us in predicting the predicting fraud as it is not directly connected as it is just time values given in numerical value, but we can use this column in vizuation part so as to know fraud time occurance and their frequency)\n",
    "    \n",
    "    •\tnameOrig: (as it is only the customer account name and most of the values are unique so if we apply model on it, it will ultimately will increase the complexity of the model)\n",
    "    \n",
    "    •\tisFraud: (we will use this column as the output or the target column)\n",
    "    \n",
    "    •\tisFlaggedFraud: (this column only have 16 values which are flagged as fraud so it is a very small number compared to the total fraud values in isFraud column which is 8213 so it will not have that much effect)\n"
   ]
  },
  {
   "cell_type": "markdown",
   "id": "35290534",
   "metadata": {},
   "source": [
    "### 4. Demonstrate the performance of the model by using best set of tools. "
   ]
  },
  {
   "cell_type": "markdown",
   "id": "f9890021",
   "metadata": {},
   "source": [
    "i) to demonstrate the performance of the model we have used many of the factors like the \n",
    "    •\taccuracy\n",
    "    •\tprecision\n",
    "    •\trecall\n",
    "    •\tf1 score \n",
    "    •\tconfusion matrix ( which will tell us all 4 possibilities and also type 1 error and type 2 error)\n",
    "\n",
    "ii) we will also use some types of data visualization elements like the histogram, bar chart for better understanding"
   ]
  },
  {
   "cell_type": "markdown",
   "id": "bd89437a",
   "metadata": {},
   "source": [
    "### 5. What are the key factors that predict fraudulent customer? "
   ]
  },
  {
   "cell_type": "markdown",
   "id": "9acb7f06",
   "metadata": {},
   "source": [
    "i) the key factors which will help us in predicting the fraudulent customers are the \n",
    "    •\ttype of payment\n",
    "    •\tName Dest\n",
    "    •\tAmount"
   ]
  },
  {
   "cell_type": "markdown",
   "id": "8e76e088",
   "metadata": {},
   "source": [
    "### 6. Do these factors make sense? If yes, How? If not, How not? "
   ]
  },
  {
   "cell_type": "markdown",
   "id": "fb2953da",
   "metadata": {},
   "source": [
    "1)\ttype of payment\n",
    "    o\tby doing the analysis we come to know that most of the fraudulent transactions were being done by using the transfer and cash out mode \n",
    "    o\trest in all the other modes it has reported 0 fraudulant activities\n",
    "\n",
    "2)\tName Dest\n",
    "    o\tBy doing the analysis we come to know that only the customer account have found with fraudulent activity and in merchant account 0 fraudulant activities found\n",
    "\n",
    "3)\tAmount\n",
    "    o\tAmount that is being transferred from sender to recipient and how much money is cashed out etc will matter\n"
   ]
  },
  {
   "cell_type": "markdown",
   "id": "0200e295",
   "metadata": {},
   "source": [
    "### 7. What kind of prevention should be adopted while company update its infrastructure? "
   ]
  },
  {
   "cell_type": "markdown",
   "id": "f404a076",
   "metadata": {},
   "source": [
    "i) the preventive measures the company should adopt to reduce the fraudulent activities is \n",
    "    \n",
    "    o\tCompany should monitor transfer and cash out type more closely as they are the once which are more prone to fraudulent acitivities\n",
    "    \n",
    "    o\tCompany should promote customer to not transfer some big amount directly to another customer account, company should check the previous track record of that recipient account\n",
    "    \n",
    "    o\tAfter the thorough investigation, then company should generate a value which will help the customer in identifying whether the account is genuine account or not\n",
    "    \n",
    "    o\tCompany should ban those accounts which are being found in performing fraudulent transaction\n"
   ]
  },
  {
   "cell_type": "markdown",
   "id": "94f07e66",
   "metadata": {},
   "source": [
    "### 8. Assuming these actions have been implemented, how would you determine if they work "
   ]
  },
  {
   "cell_type": "markdown",
   "id": "875f3abe",
   "metadata": {},
   "source": [
    "i) if all the actions are implemented successfully then we will determine the working by the following ways\n",
    "    \n",
    "    •\twe will again preprocess and implement the ml model on the transactions dataset which company will collect after the implementation (which we got earilier similar like that)\n",
    "    \n",
    "    •\tIf the ratio of fraud is to legitimate transactions decreased from previous ratio then we can say that we are on right path and if the ratio increases than we have to find some other ways to tackle the issue\n",
    "    \n",
    "    •   We will try to find new accounts which are performing fraudulent transaction and will blacklist them from further transaction\n",
    "    \n",
    "    •\tWe will try to unravel the patterns which will arise in future by changing in some of the transaction policy\n"
   ]
  }
 ],
 "metadata": {
  "colab": {
   "provenance": []
  },
  "kernelspec": {
   "display_name": "Python 3 (ipykernel)",
   "language": "python",
   "name": "python3"
  },
  "language_info": {
   "codemirror_mode": {
    "name": "ipython",
    "version": 3
   },
   "file_extension": ".py",
   "mimetype": "text/x-python",
   "name": "python",
   "nbconvert_exporter": "python",
   "pygments_lexer": "ipython3",
   "version": "3.9.12"
  }
 },
 "nbformat": 4,
 "nbformat_minor": 5
}
